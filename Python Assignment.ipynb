{
 "cells": [
  {
   "cell_type": "markdown",
   "id": "5e0be9fc",
   "metadata": {},
   "source": [
    "### 1. Write a Python program to read a file line by line and store it into a list."
   ]
  },
  {
   "cell_type": "code",
   "execution_count": 1,
   "id": "52851052",
   "metadata": {
    "collapsed": true
   },
   "outputs": [
    {
     "ename": "SyntaxError",
     "evalue": "unexpected character after line continuation character (<ipython-input-1-e18a15b499e3>, line 7)",
     "output_type": "error",
     "traceback": [
      "\u001b[1;36m  File \u001b[1;32m\"<ipython-input-1-e18a15b499e3>\"\u001b[1;36m, line \u001b[1;32m7\u001b[0m\n\u001b[1;33m    file_read(\\'test.txt\\')\u001b[0m\n\u001b[1;37m                           ^\u001b[0m\n\u001b[1;31mSyntaxError\u001b[0m\u001b[1;31m:\u001b[0m unexpected character after line continuation character\n"
     ]
    }
   ],
   "source": [
    "def file_read(fname):\n",
    "        with open(fname) as f:\n",
    "                #Content_list is the list that contains the read lines.     \n",
    "                content_list = f.readlines()\n",
    "                print(content_list)\n",
    "\n",
    "file_read(\\'test.txt\\')"
   ]
  },
  {
   "cell_type": "markdown",
   "id": "188ec2d0",
   "metadata": {},
   "source": [
    "### 2. Write a Python program to calculate the number of days between two dates. Sample dates : (20200702), (20200711)"
   ]
  },
  {
   "cell_type": "code",
   "execution_count": 24,
   "id": "b65ec86f",
   "metadata": {},
   "outputs": [
    {
     "name": "stdout",
     "output_type": "stream",
     "text": [
      "273\n"
     ]
    }
   ],
   "source": [
    "from datetime import datetime, timedelta\n",
    "s = '20200702'\n",
    "d = '20200711'\n",
    "date1 = datetime(year=int(s[2:6]), month=int(s[6:8]), day=int(s[0:2]))\n",
    "date2 = datetime(year=int(d[2:6]), month=int(d[6:8]), day=int(d[0:2]))\n",
    "delta = date2-date1\n",
    "print(delta.days)\n"
   ]
  },
  {
   "cell_type": "markdown",
   "id": "3413582d",
   "metadata": {},
   "source": [
    "### 3. Write a Python program to convert the Python dictionary object (sort by key) to JSON data. Print the object members with indent level 4"
   ]
  },
  {
   "cell_type": "code",
   "execution_count": 26,
   "id": "483002b1",
   "metadata": {},
   "outputs": [
    {
     "name": "stdout",
     "output_type": "stream",
     "text": [
      "Original String:\n",
      "{'a': 5, 'b': 7, 'c': 3, 'd': 4}\n",
      "\n",
      "JSON data:\n",
      "{\n",
      "    \"a\": 5,\n",
      "    \"b\": 7,\n",
      "    \"c\": 3,\n",
      "    \"d\": 4\n",
      "}\n"
     ]
    }
   ],
   "source": [
    "import json\n",
    "j_str = {'a': 5, 'b': 7, 'c': 3, 'd': 4}\n",
    "print(\"Original String:\")\n",
    "print(j_str)\n",
    "print(\"\\nJSON data:\")\n",
    "print(json.dumps(j_str, sort_keys=True, indent=4))"
   ]
  },
  {
   "cell_type": "markdown",
   "id": "c635c80b",
   "metadata": {},
   "source": [
    "### 4. Write a Python program to sort a list of dictionaries using Lambda. Original list of dictionaries"
   ]
  },
  {
   "cell_type": "code",
   "execution_count": 28,
   "id": "4ada9eed",
   "metadata": {},
   "outputs": [
    {
     "name": "stdout",
     "output_type": "stream",
     "text": [
      "Original dict :\n",
      "[{'make': 'Nokia', 'model': 216, 'color': 'Black'}, {'make': 'Mi Max', 'model': '2', 'color': 'Gold'}, {'make': 'Samsung', 'model': 7, 'color': 'Blue'}]\n",
      "Sorted Dict :\n",
      "[{'make': 'Nokia', 'model': 216, 'color': 'Black'}, {'make': 'Samsung', 'model': 7, 'color': 'Blue'}, {'make': 'Mi Max', 'model': '2', 'color': 'Gold'}]\n"
     ]
    }
   ],
   "source": [
    "models = [{'make':'Nokia', 'model':216, 'color':'Black'}, {'make':'Mi Max', 'model':'2', 'color':'Gold'}, {'make':'Samsung', 'model': 7, 'color':'Blue'}]\n",
    "print(\"Original dict :\")\n",
    "print(models)\n",
    "sorted_models = sorted(models, key = lambda x: x['color'])\n",
    "print(\"Sorted Dict :\")\n",
    "print(sorted_models)"
   ]
  },
  {
   "cell_type": "markdown",
   "id": "9e936157",
   "metadata": {},
   "source": [
    "### 5. Write a Python program that takes a text file as input and returns the number of words of a given text file"
   ]
  },
  {
   "cell_type": "code",
   "execution_count": 29,
   "id": "32060a42",
   "metadata": {
    "collapsed": true
   },
   "outputs": [
    {
     "ename": "FileNotFoundError",
     "evalue": "[Errno 2] No such file or directory: 'words.txt'",
     "output_type": "error",
     "traceback": [
      "\u001b[1;31m---------------------------------------------------------------------------\u001b[0m",
      "\u001b[1;31mFileNotFoundError\u001b[0m                         Traceback (most recent call last)",
      "\u001b[1;32m<ipython-input-29-d943011b44b3>\u001b[0m in \u001b[0;36m<module>\u001b[1;34m\u001b[0m\n\u001b[0;32m      4\u001b[0m        \u001b[0mdata\u001b[0m\u001b[1;33m.\u001b[0m\u001b[0mreplace\u001b[0m\u001b[1;33m(\u001b[0m\u001b[1;34m\",\"\u001b[0m\u001b[1;33m,\u001b[0m \u001b[1;34m\" \"\u001b[0m\u001b[1;33m)\u001b[0m\u001b[1;33m\u001b[0m\u001b[1;33m\u001b[0m\u001b[0m\n\u001b[0;32m      5\u001b[0m        \u001b[1;32mreturn\u001b[0m \u001b[0mlen\u001b[0m\u001b[1;33m(\u001b[0m\u001b[0mdata\u001b[0m\u001b[1;33m.\u001b[0m\u001b[0msplit\u001b[0m\u001b[1;33m(\u001b[0m\u001b[1;34m\" \"\u001b[0m\u001b[1;33m)\u001b[0m\u001b[1;33m)\u001b[0m\u001b[1;33m\u001b[0m\u001b[1;33m\u001b[0m\u001b[0m\n\u001b[1;32m----> 6\u001b[1;33m \u001b[0mprint\u001b[0m\u001b[1;33m(\u001b[0m\u001b[0mword_count\u001b[0m\u001b[1;33m(\u001b[0m\u001b[1;34m\"words.txt\"\u001b[0m\u001b[1;33m)\u001b[0m\u001b[1;33m)\u001b[0m\u001b[1;33m\u001b[0m\u001b[1;33m\u001b[0m\u001b[0m\n\u001b[0m",
      "\u001b[1;32m<ipython-input-29-d943011b44b3>\u001b[0m in \u001b[0;36mword_count\u001b[1;34m(filepath)\u001b[0m\n\u001b[0;32m      1\u001b[0m \u001b[1;32mdef\u001b[0m \u001b[0mword_count\u001b[0m\u001b[1;33m(\u001b[0m\u001b[0mfilepath\u001b[0m\u001b[1;33m)\u001b[0m\u001b[1;33m:\u001b[0m\u001b[1;33m\u001b[0m\u001b[1;33m\u001b[0m\u001b[0m\n\u001b[1;32m----> 2\u001b[1;33m    \u001b[1;32mwith\u001b[0m \u001b[0mopen\u001b[0m\u001b[1;33m(\u001b[0m\u001b[0mfilepath\u001b[0m\u001b[1;33m)\u001b[0m \u001b[1;32mas\u001b[0m \u001b[0mf\u001b[0m\u001b[1;33m:\u001b[0m\u001b[1;33m\u001b[0m\u001b[1;33m\u001b[0m\u001b[0m\n\u001b[0m\u001b[0;32m      3\u001b[0m        \u001b[0mdata\u001b[0m \u001b[1;33m=\u001b[0m \u001b[0mf\u001b[0m\u001b[1;33m.\u001b[0m\u001b[0mread\u001b[0m\u001b[1;33m(\u001b[0m\u001b[1;33m)\u001b[0m\u001b[1;33m\u001b[0m\u001b[1;33m\u001b[0m\u001b[0m\n\u001b[0;32m      4\u001b[0m        \u001b[0mdata\u001b[0m\u001b[1;33m.\u001b[0m\u001b[0mreplace\u001b[0m\u001b[1;33m(\u001b[0m\u001b[1;34m\",\"\u001b[0m\u001b[1;33m,\u001b[0m \u001b[1;34m\" \"\u001b[0m\u001b[1;33m)\u001b[0m\u001b[1;33m\u001b[0m\u001b[1;33m\u001b[0m\u001b[0m\n\u001b[0;32m      5\u001b[0m        \u001b[1;32mreturn\u001b[0m \u001b[0mlen\u001b[0m\u001b[1;33m(\u001b[0m\u001b[0mdata\u001b[0m\u001b[1;33m.\u001b[0m\u001b[0msplit\u001b[0m\u001b[1;33m(\u001b[0m\u001b[1;34m\" \"\u001b[0m\u001b[1;33m)\u001b[0m\u001b[1;33m)\u001b[0m\u001b[1;33m\u001b[0m\u001b[1;33m\u001b[0m\u001b[0m\n",
      "\u001b[1;31mFileNotFoundError\u001b[0m: [Errno 2] No such file or directory: 'words.txt'"
     ]
    }
   ],
   "source": [
    "def word_count(filepath):\n",
    "   with open(filepath) as f:\n",
    "       data = f.read()\n",
    "       data.replace(\",\", \" \")\n",
    "       return len(data.split(\" \"))\n",
    "print(word_count(\"words.txt\"))"
   ]
  },
  {
   "cell_type": "markdown",
   "id": "da94d0e7",
   "metadata": {},
   "source": [
    "### 6. Write a Python program to convert an array to an array of machine values and return the bytes representation"
   ]
  },
  {
   "cell_type": "code",
   "execution_count": 32,
   "id": "b95faca5",
   "metadata": {},
   "outputs": [
    {
     "name": "stdout",
     "output_type": "stream",
     "text": [
      "Original array:  array('i', [1, 2, 3, 4, 5, 6])\n",
      "Array of bytes: b'010000000200000003000000040000000500000006000000'\n"
     ]
    }
   ],
   "source": [
    "import array\n",
    "import binascii\n",
    "a = array.array('i', [1,2,3,4,5,6])\n",
    "print(\"Original array: \",a)\n",
    "bytes_array = a.tobytes()\n",
    "print('Array of bytes:', binascii.hexlify(bytes_array))"
   ]
  },
  {
   "cell_type": "markdown",
   "id": "bbb709df",
   "metadata": {},
   "source": [
    "### 8. Program to Generate random logs and write in a file , once the file size reaches 2Mb\n",
    "- open new file and continue writing"
   ]
  },
  {
   "cell_type": "code",
   "execution_count": null,
   "id": "d6035051",
   "metadata": {},
   "outputs": [],
   "source": [
    "import os \n",
    "file_number = 0 \n",
    "file_size = 0 \n",
    "while True:\n",
    "    if file_size < 2e+6:\n",
    "        try:\n",
    "            file = open('test%d.txt'%file_number, 'x') \n",
    "        except:\n",
    "            pass\n",
    "        \n",
    "        file = open('test%d.txt'%file_number) \n",
    "        text = file.read() + 'My name is XYZ' \n",
    "        file = open('test%d.txt'%file_number, 'w') \n",
    "        file.write(text)\n",
    "        \n",
    "        file_size = os.stat('test%d.txt'%file_number) .st_size\n",
    "        \n",
    "        if file_size > 2e+6:\n",
    "            \n",
    "            file_number += 1 \n",
    "            file_size = 0 \n",
    "\n"
   ]
  },
  {
   "cell_type": "markdown",
   "id": "e6aa58fc",
   "metadata": {},
   "source": [
    "### 9. Script to ping and check whether any given IPs are active, also whether given set of software are installed in the existing system"
   ]
  },
  {
   "cell_type": "code",
   "execution_count": null,
   "id": "cbf79027",
   "metadata": {},
   "outputs": [],
   "source": [
    "import subprocess\n",
    "\n",
    "for ping in range(1,10):                                   # for IP\n",
    "    address = \"127.0.0.\" + str(ping)\n",
    "    res = subprocess.call(['ping', '-c', '3', address])\n",
    "    if res == 0:\n",
    "        print( \"ping to\", address, \"OK\")\n",
    "    elif res == 2:\n",
    "        print(\"no response from\", address)\n",
    "    else:\n",
    "        print(\"ping to\", address, \"failed!\")\n"
   ]
  }
 ],
 "metadata": {
  "kernelspec": {
   "display_name": "Python 3",
   "language": "python",
   "name": "python3"
  },
  "language_info": {
   "codemirror_mode": {
    "name": "ipython",
    "version": 3
   },
   "file_extension": ".py",
   "mimetype": "text/x-python",
   "name": "python",
   "nbconvert_exporter": "python",
   "pygments_lexer": "ipython3",
   "version": "3.8.8"
  }
 },
 "nbformat": 4,
 "nbformat_minor": 5
}
